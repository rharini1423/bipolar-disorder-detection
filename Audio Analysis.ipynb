{
 "cells": [
  {
   "cell_type": "code",
   "execution_count": 2,
   "metadata": {},
   "outputs": [
    {
     "name": "stdout",
     "output_type": "stream",
     "text": [
      "Collecting SpeechRecognition\n",
      "  Downloading SpeechRecognition-3.8.1-py2.py3-none-any.whl (32.8 MB)\n",
      "Installing collected packages: SpeechRecognition\n",
      "Successfully installed SpeechRecognition-3.8.1\n",
      "Note: you may need to restart the kernel to use updated packages.\n"
     ]
    }
   ],
   "source": [
    "pip install SpeechRecognition"
   ]
  },
  {
   "cell_type": "code",
   "execution_count": 3,
   "metadata": {},
   "outputs": [
    {
     "name": "stdout",
     "output_type": "stream",
     "text": [
      "Collecting package metadata (current_repodata.json): ...working... done\n",
      "Note: you may need to restart the kernel to use updated packages.\n",
      "Solving environment: ...working... done\n",
      "\n",
      "\n",
      "## Package Plan ##\n",
      "\n",
      "  environment location: C:\\Users\\nithya\\anaconda3\n",
      "\n",
      "  added / updated specs:\n",
      "    - pyaudio\n",
      "\n",
      "\n",
      "The following packages will be downloaded:\n",
      "\n",
      "    package                    |            build\n",
      "    ---------------------------|-----------------\n",
      "    conda-22.9.0               |   py38haa95532_0         888 KB\n",
      "    portaudio-19.6.0           |       he774522_4         202 KB\n",
      "    pyaudio-0.2.11             |   py38he774522_2         206 KB\n",
      "    ------------------------------------------------------------\n",
      "                                           Total:         1.3 MB\n",
      "\n",
      "The following NEW packages will be INSTALLED:\n",
      "\n",
      "  portaudio          pkgs/main/win-64::portaudio-19.6.0-he774522_4\n",
      "  pyaudio            pkgs/main/win-64::pyaudio-0.2.11-py38he774522_2\n",
      "\n",
      "The following packages will be UPDATED:\n",
      "\n",
      "  conda                                4.9.2-py38haa95532_0 --> 22.9.0-py38haa95532_0\n",
      "\n",
      "\n",
      "\n",
      "Downloading and Extracting Packages\n",
      "\n",
      "portaudio-19.6.0     | 202 KB    |            |   0% \n",
      "portaudio-19.6.0     | 202 KB    | 7          |   8% \n",
      "portaudio-19.6.0     | 202 KB    | ####7      |  47% \n",
      "portaudio-19.6.0     | 202 KB    | ########## | 100% \n",
      "portaudio-19.6.0     | 202 KB    | ########## | 100% \n",
      "\n",
      "pyaudio-0.2.11       | 206 KB    |            |   0% \n",
      "pyaudio-0.2.11       | 206 KB    | 7          |   8% \n",
      "pyaudio-0.2.11       | 206 KB    | ######2    |  62% \n",
      "pyaudio-0.2.11       | 206 KB    | ########## | 100% \n",
      "pyaudio-0.2.11       | 206 KB    | ########## | 100% \n",
      "\n",
      "conda-22.9.0         | 888 KB    |            |   0% \n",
      "conda-22.9.0         | 888 KB    | 3          |   4% \n",
      "conda-22.9.0         | 888 KB    | ###2       |  32% \n",
      "conda-22.9.0         | 888 KB    | ########1  |  81% \n",
      "conda-22.9.0         | 888 KB    | ########## | 100% \n",
      "Preparing transaction: ...working... done\n",
      "Verifying transaction: ...working... done\n",
      "Executing transaction: ...working... done\n"
     ]
    }
   ],
   "source": [
    "conda install pyaudio"
   ]
  },
  {
   "cell_type": "code",
   "execution_count": 4,
   "metadata": {},
   "outputs": [],
   "source": [
    "import speech_recognition as sr"
   ]
  },
  {
   "cell_type": "code",
   "execution_count": 5,
   "metadata": {},
   "outputs": [],
   "source": [
    "r=sr.Recognizer()"
   ]
  },
  {
   "cell_type": "code",
   "execution_count": 6,
   "metadata": {},
   "outputs": [
    {
     "name": "stdout",
     "output_type": "stream",
     "text": [
      "hi I am Kavya I'll feel motivated and I'll try to do better next time if I don't meet the Expectations of the teacher and I'll try to do better next time if I fail in exam I will complete that day itself but I'll get a little irritated if I get lots of workload\n"
     ]
    }
   ],
   "source": [
    "with sr.AudioFile(r\"C:\\Users\\nithya\\Documents\\audio data\\001.wav\") as source:\n",
    "    audio=r.listen(source)\n",
    "    try:\n",
    "        text1=r.recognize_google(audio)\n",
    "        print(text1)\n",
    "    except:\n",
    "        print(\"try again\")"
   ]
  },
  {
   "cell_type": "code",
   "execution_count": 8,
   "metadata": {},
   "outputs": [
    {
     "name": "stdout",
     "output_type": "stream",
     "text": [
      "hello I am free Dish me when I am not up to my teachers of parents Expectations I be irritated as to why I have to meet the Expectations if someone told me I failed my exam I'd be very stressed about how I feel this exam and when my workload heavy I would be relaxed\n"
     ]
    }
   ],
   "source": [
    "with sr.AudioFile(r\"C:\\Users\\nithya\\Documents\\audio data\\002.wav\") as source:\n",
    "    audio=r.listen(source)\n",
    "    try:\n",
    "        text2=r.recognize_google(audio)\n",
    "        print(text2)\n",
    "    except:\n",
    "        print(\"try again\")"
   ]
  },
  {
   "cell_type": "code",
   "execution_count": 9,
   "metadata": {},
   "outputs": [
    {
     "name": "stdout",
     "output_type": "stream",
     "text": [
      "hello my name is Abhishek are not up to my teacher's Expectations will be tense as to that I should have study more until I am satisfied and the someone told me I failed my exams I would be very angry and tensed and if there is a lot of workload I will stay calm and remain happy\n"
     ]
    }
   ],
   "source": [
    "with sr.AudioFile(r\"C:\\Users\\nithya\\Documents\\audio data\\003.wav\") as source:\n",
    "    audio=r.listen(source)\n",
    "    try:\n",
    "        text3=r.recognize_google(audio)\n",
    "        print(text3)\n",
    "    except:\n",
    "        print(\"try again\")"
   ]
  },
  {
   "cell_type": "code",
   "execution_count": 10,
   "metadata": {},
   "outputs": [
    {
     "name": "stdout",
     "output_type": "stream",
     "text": [
      "hello my name is read Anushka when I am not up to my teachers expectation always think that I could have studied better and if someone told me I failed my exam I would not believe them because I am confident that I will not feel and when my workload heavy I would be sad and I'll procrastinate my work\n"
     ]
    }
   ],
   "source": [
    "with sr.AudioFile(r\"C:\\Users\\nithya\\Documents\\audio data\\004.wav\") as source:\n",
    "    audio=r.listen(source)\n",
    "    try:\n",
    "        text4=r.recognize_google(audio)\n",
    "        print(text4)\n",
    "    except:\n",
    "        print(\"try again\")"
   ]
  },
  {
   "cell_type": "code",
   "execution_count": 11,
   "metadata": {},
   "outputs": [
    {
     "name": "stdout",
     "output_type": "stream",
     "text": [
      "I would be really sad that I couldn't meet my teachers expectation if someone told me I failed my exam I be very scared and when my workload heavy I be irritated\n"
     ]
    }
   ],
   "source": [
    "with sr.AudioFile(r\"C:\\Users\\nithya\\Documents\\audio data\\005.wav\") as source:\n",
    "    audio=r.listen(source)\n",
    "    try:\n",
    "        text5=r.recognize_google(audio)\n",
    "        print(text5)\n",
    "    except:\n",
    "        print(\"try again\")"
   ]
  },
  {
   "cell_type": "code",
   "execution_count": 12,
   "metadata": {},
   "outputs": [
    {
     "name": "stdout",
     "output_type": "stream",
     "text": [
      "I am Sri Vishnu Shekhar I am not up to my teachers expectation I be satisfied with whatever I have scored and someone told me I failed my exams I will improve myself in the next exam and then my workload heavy I will be angry\n"
     ]
    }
   ],
   "source": [
    "with sr.AudioFile(r\"C:\\Users\\nithya\\Documents\\audio data\\006.wav\") as source:\n",
    "    audio=r.listen(source)\n",
    "    try:\n",
    "        text6=r.recognize_google(audio)\n",
    "        print(text6)\n",
    "    except:\n",
    "        print(\"try again\")"
   ]
  },
  {
   "cell_type": "code",
   "execution_count": 13,
   "metadata": {},
   "outputs": [
    {
     "name": "stdout",
     "output_type": "stream",
     "text": [
      "my name is Nithyanandan I am not up to my teachers Expectations I will always try to get more marks next time when someone told me I failed my exam I will try to improve and when my workload heavy I will procrastinate\n"
     ]
    }
   ],
   "source": [
    "with sr.AudioFile(r\"C:\\Users\\nithya\\Documents\\audio data\\007.wav\") as source:\n",
    "    audio=r.listen(source)\n",
    "    try:\n",
    "        text7=r.recognize_google(audio)\n",
    "        print(text7)\n",
    "    except:\n",
    "        print(\"try again\")"
   ]
  },
  {
   "cell_type": "code",
   "execution_count": 14,
   "metadata": {},
   "outputs": [
    {
     "name": "stdout",
     "output_type": "stream",
     "text": [
      "hi my name is our Kishore when I am not up to my teachers expectation always think that I could have study better and why do they keep the exams at someone told me I failed my exams I'd hate myself and when my workload is heavy and complete the work but I would be very irritated and stressed\n"
     ]
    }
   ],
   "source": [
    "with sr.AudioFile(r\"C:\\Users\\nithya\\Documents\\audio data\\008.wav\") as source:\n",
    "    audio=r.listen(source)\n",
    "    try:\n",
    "        text8=r.recognize_google(audio)\n",
    "        print(text8)\n",
    "    except:\n",
    "        print(\"try again\")"
   ]
  },
  {
   "cell_type": "code",
   "execution_count": 15,
   "metadata": {},
   "outputs": [
    {
     "name": "stdout",
     "output_type": "stream",
     "text": [
      "hello my name is Kavya when I am not up to teachers Expectations I be motivated to improve myself if someone told me I failed my exams I would try better next time and when the workload heavy I will complete it as soon as possible\n"
     ]
    }
   ],
   "source": [
    "with sr.AudioFile(r\"C:\\Users\\nithya\\Documents\\audio data\\009.wav\") as source:\n",
    "    audio=r.listen(source)\n",
    "    try:\n",
    "        text9=r.recognize_google(audio)\n",
    "        print(text9)\n",
    "    except:\n",
    "        print(\"try again\")"
   ]
  },
  {
   "cell_type": "code",
   "execution_count": 16,
   "metadata": {},
   "outputs": [
    {
     "name": "stdout",
     "output_type": "stream",
     "text": [
      "hi I am Kavya I'll feel motivated and I'll try to do better next time if I don't meet the Expectations of the teacher and I'll try to do better next time if I fail in exam I will complete that day itself but I'll get a little irritated if I get lots of workload \n",
      "\n",
      "hello I am free Dish me when I am not up to my teachers of parents Expectations I be irritated as to why I have to meet the Expectations if someone told me I failed my exam I'd be very stressed about how I feel this exam and when my workload heavy I would be relaxed \n",
      "\n",
      "hello my name is Abhishek are not up to my teacher's Expectations will be tense as to that I should have study more until I am satisfied and the someone told me I failed my exams I would be very angry and tensed and if there is a lot of workload I will stay calm and remain happy \n",
      "\n",
      "hello my name is read Anushka when I am not up to my teachers expectation always think that I could have studied better and if someone told me I failed my exam I would not believe them because I am confident that I will not feel and when my workload heavy I would be sad and I'll procrastinate my work \n",
      "\n",
      "I would be really sad that I couldn't meet my teachers expectation if someone told me I failed my exam I be very scared and when my workload heavy I be irritated \n",
      "\n",
      "I am Sri Vishnu Shekhar I am not up to my teachers expectation I be satisfied with whatever I have scored and someone told me I failed my exams I will improve myself in the next exam and then my workload heavy I will be angry \n",
      "\n",
      "my name is Nithyanandan I am not up to my teachers Expectations I will always try to get more marks next time when someone told me I failed my exam I will try to improve and when my workload heavy I will procrastinate \n",
      "\n",
      "hi my name is our Kishore when I am not up to my teachers expectation always think that I could have study better and why do they keep the exams at someone told me I failed my exams I'd hate myself and when my workload is heavy and complete the work but I would be very irritated and stressed \n",
      "\n",
      "hello my name is Kavya when I am not up to teachers Expectations I be motivated to improve myself if someone told me I failed my exams I would try better next time and when the workload heavy I will complete it as soon as possible \n",
      "\n"
     ]
    }
   ],
   "source": [
    "print(text1,'\\n')\n",
    "print(text2,'\\n')\n",
    "print(text3,'\\n')\n",
    "print(text4,'\\n')\n",
    "print(text5,'\\n')\n",
    "print(text6,'\\n')\n",
    "print(text7,'\\n')\n",
    "print(text8,'\\n')\n",
    "print(text9,'\\n')"
   ]
  },
  {
   "cell_type": "code",
   "execution_count": 4,
   "metadata": {},
   "outputs": [],
   "source": [
    "import speech_recognition as sr\n",
    "import csv\n",
    "import os\n",
    "\n",
    "\n",
    "DIRNAME = r\"C:\\Users\\nithya\\Documents\\audio data\"\n",
    "OUTPUTFILE = r\"C:\\Users\\nithya\\Documents\\empty csv\\audio.csv\"\n",
    "\n",
    "def get_file_paths(dirname):\n",
    "    file_paths = []  \n",
    "    for root, directories, files in os.walk(dirname):\n",
    "        for filename in files:\n",
    "            filepath = os.path.join(root, filename)\n",
    "            file_paths.append(filepath)  \n",
    "    return file_paths    \n",
    "\n",
    "def process_file(file):\n",
    "    r = sr.Recognizer()\n",
    "    a = ''\n",
    "    with sr.AudioFile(file) as source:\n",
    "        audio = r.record(source)    \n",
    "        try:\n",
    "            a =  r.recognize_google(audio)        \n",
    "        except sr.UnknownValueError:\n",
    "            a = \"Google Speech Recognition could not understand audio\"\n",
    "        except sr.RequestError as e:\n",
    "            a = \"Could not request results from Google Speech Recognition service; {0}\".format(e)  \n",
    "    return a\n",
    "def main():\n",
    "    files = get_file_paths(DIRNAME)                \n",
    "    for file in files:                             \n",
    "        (filepath, ext) = os.path.splitext(file)   \n",
    "        file_name = os.path.basename(file)         \n",
    "        if ext == '.wav':                         \n",
    "            a = process_file(file)                  \n",
    "            with open(OUTPUTFILE, 'a') as f:      \n",
    "                writer = csv.writer(f)\n",
    "                writer.writerow([file_name, a])            \n",
    "\n",
    "\n",
    "if __name__ == '__main__':\n",
    "    main()"
   ]
  },
  {
   "cell_type": "code",
   "execution_count": 5,
   "metadata": {},
   "outputs": [],
   "source": [
    "import pandas as pd\n",
    "df = pd.read_csv(r'C:\\Users\\nithya\\Documents\\empty csv\\audio.csv', header=None)\n",
    "df.rename(columns={0: 'id', 1: 'text'}, inplace=True)\n",
    "df.to_csv(r'C:\\Users\\nithya\\Documents\\empty csv\\audio.csv', index=False)"
   ]
  },
  {
   "cell_type": "code",
   "execution_count": null,
   "metadata": {},
   "outputs": [],
   "source": []
  },
  {
   "cell_type": "code",
   "execution_count": 6,
   "metadata": {},
   "outputs": [
    {
     "name": "stderr",
     "output_type": "stream",
     "text": [
      "[nltk_data] Downloading package vader_lexicon to\n",
      "[nltk_data]     C:\\Users\\nithya\\AppData\\Roaming\\nltk_data...\n",
      "[nltk_data]   Package vader_lexicon is already up-to-date!\n"
     ]
    }
   ],
   "source": [
    "import nltk\n",
    "nltk.download('vader_lexicon')\n",
    "from nltk.sentiment.vader import SentimentIntensityAnalyzer\n",
    "analyser = SentimentIntensityAnalyzer()\n",
    "scores=df['text'].map(lambda x: analyser.polarity_scores(x))"
   ]
  },
  {
   "cell_type": "code",
   "execution_count": 7,
   "metadata": {},
   "outputs": [],
   "source": [
    "scores_df = pd.DataFrame(scores)"
   ]
  },
  {
   "cell_type": "code",
   "execution_count": 9,
   "metadata": {},
   "outputs": [
    {
     "name": "stdout",
     "output_type": "stream",
     "text": [
      "EMOTION INTENSITY:\n",
      "                                                              text\n",
      "0   {'neg': 0.104, 'neu': 0.79, 'pos': 0.106, 'compound': -0.2289}\n",
      "1   {'neg': 0.151, 'neu': 0.74, 'pos': 0.109, 'compound': -0.3597}\n",
      "2  {'neg': 0.176, 'neu': 0.686, 'pos': 0.138, 'compound': -0.3597}\n",
      "3  {'neg': 0.104, 'neu': 0.797, 'pos': 0.099, 'compound': -0.0772}\n",
      "4    {'neg': 0.359, 'neu': 0.641, 'pos': 0.0, 'compound': -0.9167}\n",
      "5    {'neg': 0.14, 'neu': 0.74, 'pos': 0.121, 'compound': -0.2263}\n",
      "6  {'neg': 0.078, 'neu': 0.853, 'pos': 0.069, 'compound': -0.1027}\n",
      "7   {'neg': 0.193, 'neu': 0.777, 'pos': 0.03, 'compound': -0.8881}\n",
      "8   {'neg': 0.067, 'neu': 0.754, 'pos': 0.179, 'compound': 0.6705}\n"
     ]
    }
   ],
   "source": [
    "print(\"EMOTION INTENSITY:\")\n",
    "print(scores_df.to_string())"
   ]
  },
  {
   "cell_type": "code",
   "execution_count": null,
   "metadata": {},
   "outputs": [],
   "source": []
  }
 ],
 "metadata": {
  "kernelspec": {
   "display_name": "Python 3",
   "language": "python",
   "name": "python3"
  },
  "language_info": {
   "codemirror_mode": {
    "name": "ipython",
    "version": 3
   },
   "file_extension": ".py",
   "mimetype": "text/x-python",
   "name": "python",
   "nbconvert_exporter": "python",
   "pygments_lexer": "ipython3",
   "version": "3.8.5"
  }
 },
 "nbformat": 4,
 "nbformat_minor": 5
}
